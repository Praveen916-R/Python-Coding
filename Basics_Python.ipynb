{
  "nbformat": 4,
  "nbformat_minor": 0,
  "metadata": {
    "colab": {
      "provenance": [],
      "authorship_tag": "ABX9TyN/C9/glONOuDiMQKJzoFz/",
      "include_colab_link": true
    },
    "kernelspec": {
      "name": "python3",
      "display_name": "Python 3"
    },
    "language_info": {
      "name": "python"
    }
  },
  "cells": [
    {
      "cell_type": "markdown",
      "metadata": {
        "id": "view-in-github",
        "colab_type": "text"
      },
      "source": [
        "<a href=\"https://colab.research.google.com/github/Praveen916-R/Python-Coding/blob/main/Basics_Python.ipynb\" target=\"_parent\"><img src=\"https://colab.research.google.com/assets/colab-badge.svg\" alt=\"Open In Colab\"/></a>"
      ]
    },
    {
      "cell_type": "markdown",
      "source": [
        "**Write a code to get an integer N and print the even values from 1 till N in a separate line.\n",
        "\n",
        "Input Description:\n",
        "A single line contains an integer N.\n",
        "\n",
        "Output Description:\n",
        "Print the even values from 1 to N in a separate line.\n",
        "\n",
        "Sample Input :\n",
        "6\n",
        "Sample Output :\n",
        "2\n",
        "4\n",
        "6**"
      ],
      "metadata": {
        "id": "Ljm5dyqt1Qim"
      }
    },
    {
      "cell_type": "code",
      "execution_count": null,
      "metadata": {
        "id": "3n5sCVEm1LZm"
      },
      "outputs": [],
      "source": [
        "number = int(input())\n",
        "for num in range(1, number+1):\n",
        "    if(num % 2 == 0):\n",
        "        print(num)"
      ]
    },
    {
      "cell_type": "markdown",
      "source": [
        "**Write a program to print the sum of the first K natural numbers.\n",
        "Input Size : n <= 100000\n",
        "Sample Testcase :\n",
        "INPUT\n",
        "3\n",
        "OUTPUT\n",
        "6**"
      ],
      "metadata": {
        "id": "x-zrhlXe1hxH"
      }
    },
    {
      "cell_type": "code",
      "source": [
        "k=int(input())\n",
        "sum=0\n",
        "while(k>0):\n",
        "   sum+=k\n",
        "   k-=1\n",
        "print(sum)   "
      ],
      "metadata": {
        "id": "1UjgPd5o1hfv"
      },
      "execution_count": null,
      "outputs": []
    },
    {
      "cell_type": "markdown",
      "source": [
        "**Given 2 numbers N and K followed by N elements,print the number of repetition of K otherwise print '-1' if the element not found.\n",
        "Sample Testcase :\n",
        "INPUT\n",
        "6 2\n",
        "1 2 3 5 7 8\n",
        "OUTPUT\n",
        "0**"
      ],
      "metadata": {
        "id": "4_ZjnX701tKb"
      }
    },
    {
      "cell_type": "code",
      "source": [
        "b,k = map(int,input().split())\n",
        "n = list(map(int,input().split()))\n",
        "flag = 0\n",
        "if k in n:\n",
        "    flag += 1\n",
        "    if flag > 1:\n",
        "        print(flag)\n",
        "    else:\n",
        "        print(0)\n",
        "else:\n",
        "    print(-1)\n",
        "     "
      ],
      "metadata": {
        "id": "OCqigvRG1s0k"
      },
      "execution_count": null,
      "outputs": []
    },
    {
      "cell_type": "markdown",
      "source": [
        "**Given a range of 2 numbers (i.e) L and R count the number of prime numbers in the range (inclusive of L and R ).\n",
        "Input Size : L <= R <= 100000(complexity O(n) read about Sieve of Eratosthenes)\n",
        "Sample Testcase :\n",
        "INPUT\n",
        "2 5\n",
        "OUTPUT\n",
        "3**"
      ],
      "metadata": {
        "id": "XjIt3Q6V1zba"
      }
    },
    {
      "cell_type": "code",
      "source": [
        "l,u= input().split()\n",
        "a=int(l)\n",
        "b=int(u)\n",
        "count=0\n",
        "for n in range (a,b+1):\n",
        "    if n>1:\n",
        "        for i in range (2,n):\n",
        "            if (n%i)==0:\n",
        "                break\n",
        "        else:\n",
        "            count+=1\n",
        "print(count)               \n",
        "               "
      ],
      "metadata": {
        "id": "OXbLjRut1zHK"
      },
      "execution_count": null,
      "outputs": []
    },
    {
      "cell_type": "markdown",
      "source": [
        "**Find the minimum among 10 numbers.\n",
        "Sample Testcase :\n",
        "INPUT\n",
        "5 4 3 2 1 7 6 10 8 9\n",
        "OUTPUT\n",
        "1**"
      ],
      "metadata": {
        "id": "szVWgQPE16C2"
      }
    },
    {
      "cell_type": "code",
      "source": [
        "list1=list(map(int, input().strip().split()))\n",
        "small=min(list1)\n",
        "print(small)"
      ],
      "metadata": {
        "id": "afAXWwWN15wq"
      },
      "execution_count": null,
      "outputs": []
    },
    {
      "cell_type": "markdown",
      "source": [
        "**Given numbers A,B find A^B.\n",
        "Input Size : 1 <= A <= 5 <= B <= 50\n",
        "Sample Testcase :\n",
        "INPUT\n",
        "3 4\n",
        "OUTPUT\n",
        "81**"
      ],
      "metadata": {
        "id": "ymohBqho2AxG"
      }
    },
    {
      "cell_type": "code",
      "source": [
        "a,b=input().split()\n",
        "n=int(a)\n",
        "e=int(b)\n",
        "p=1\n",
        "for i in range(1,e+1):\n",
        "    p=p*n\n",
        "print(p)    "
      ],
      "metadata": {
        "id": "ussMlsNC2Afe"
      },
      "execution_count": null,
      "outputs": []
    },
    {
      "cell_type": "markdown",
      "source": [
        "**Given a number N, print 'yes' if it is composite else print 'no'.\n",
        "Sample Testcase :\n",
        "INPUT\n",
        "123\n",
        "OUTPUT\n",
        "yes**"
      ],
      "metadata": {
        "id": "kUwx1oYV2HxJ"
      }
    },
    {
      "cell_type": "code",
      "source": [
        "N=int(input())\n",
        "i=0\n",
        "for i in range(1,N):\n",
        "  if N%i==0:\n",
        "    factor=i\n",
        "if factor>1:\n",
        "  print ('yes')\n",
        "else:\n",
        "  print ('no')"
      ],
      "metadata": {
        "id": "Gz8pCZT62HbE"
      },
      "execution_count": null,
      "outputs": []
    },
    {
      "cell_type": "markdown",
      "source": [
        "**Given base(B) and height(H) of a triangle find its area.\n",
        "Input Size : N <= 1000000\n",
        "Sample Testcase :\n",
        "INPUT\n",
        "2 4\n",
        "OUTPUT\n",
        "4**"
      ],
      "metadata": {
        "id": "62yJQ89s2ObZ"
      }
    },
    {
      "cell_type": "code",
      "source": [
        "a,b=input().split()\n",
        "base=int(a)\n",
        "h=int(b)\n",
        "area=(1/2)*base*h\n",
        "print(area)\n",
        "\n",
        "\n"
      ],
      "metadata": {
        "id": "6DnHX0fV2OCr"
      },
      "execution_count": null,
      "outputs": []
    },
    {
      "cell_type": "markdown",
      "source": [
        "**Given 2 numbers N and K followed by elements of N .Print 'yes' if K exists else print 'no'.\n",
        "Sample Testcase :\n",
        "INPUT\n",
        "4 2\n",
        "1 2 3 3\n",
        "OUTPUT\n",
        "yes**"
      ],
      "metadata": {
        "id": "y1ZBhKdV2W2h"
      }
    },
    {
      "cell_type": "code",
      "source": [
        "a,b=input().split()\n",
        "list1=list(map(int, input().strip().split()))\n",
        "if int(b) in list1:\n",
        "    print('yes')\n",
        "else:\n",
        "    print('no')"
      ],
      "metadata": {
        "id": "Nqdb3_nt2Wat"
      },
      "execution_count": null,
      "outputs": []
    },
    {
      "cell_type": "markdown",
      "source": [
        "**Write a code to get the input and print it 5 times.\n",
        "\n",
        "Input Description:\n",
        "A single line contains an integer N.\n",
        "\n",
        "Output Description:\n",
        "Output contains 5 lines with each line having the value N.\n",
        "\n",
        "Sample Input :\n",
        "4\n",
        "Sample Output :\n",
        "4\n",
        "4\n",
        "4\n",
        "4\n",
        "4 **"
      ],
      "metadata": {
        "id": "XubO1lex2dzE"
      }
    },
    {
      "cell_type": "code",
      "source": [
        "A=int(input())\n",
        "for count in range(1,5+1):\n",
        "    print(A)\n"
      ],
      "metadata": {
        "id": "CD24IHM32dfI"
      },
      "execution_count": null,
      "outputs": []
    },
    {
      "cell_type": "markdown",
      "source": [
        "** Write a code to get 2 integers A and N. Print the integer A, N times in separate line.\n",
        "\n",
        "Input Description:\n",
        "First line contains an integer A. Second line contains an Integer N.\n",
        "\n",
        "Output Description:\n",
        "Print the integer A, N times in a separate line.\n",
        "\n",
        "Sample Input :\n",
        "2 3\n",
        "Sample Output :\n",
        "2\n",
        "2\n",
        "2 **"
      ],
      "metadata": {
        "id": "Yk-398SK2nN2"
      }
    },
    {
      "cell_type": "code",
      "source": [
        "A,N=input().split()\n",
        "x=int(N)\n",
        "for a in range(x):\n",
        "    print(A)\n"
      ],
      "metadata": {
        "id": "FyVK-JfC2m8s"
      },
      "execution_count": null,
      "outputs": []
    },
    {
      "cell_type": "markdown",
      "source": [
        "**Write a code to get an integer N and print values from 1 till N in a separate line.\n",
        "\n",
        "Input Description:\n",
        "A single line contains an integer N.\n",
        "\n",
        "Output Description:\n",
        "Print the values from 1 to N in a separate line.\n",
        "\n",
        "Sample Input :\n",
        "5\n",
        "Sample Output :\n",
        "1\n",
        "2\n",
        "3\n",
        "4\n",
        "5**"
      ],
      "metadata": {
        "id": "09i87SpZ21pN"
      }
    },
    {
      "cell_type": "code",
      "source": [
        "num=int(input())\n",
        "for x in range(1,num+1):\n",
        "    print (x)"
      ],
      "metadata": {
        "id": "NcEqxRTY21XO"
      },
      "execution_count": null,
      "outputs": []
    },
    {
      "cell_type": "markdown",
      "source": [
        "**Kabali is a brave warrior who with his group of young ninjas moves from one place to another to fight against his opponents. Before Fighting he just calculates one thing, the difference between his ninja number and the opponent's ninja number. From this difference he decides whether to fight or not. Kabali's ninja number is never greater than his opponent.\n",
        "Input\n",
        "The input contains two numbers in every line. These two numbers in each line denotes the number ninjas in Kabali's clan and his opponent's clan . print the absolute difference of number of ninjas between Kabali's clan and his opponent's clan. Each output should be in seperate line.\n",
        "Sample Testcase :\n",
        "INPUT\n",
        "100 200\n",
        "OUTPUT\n",
        "100**"
      ],
      "metadata": {
        "id": "0nrm6ITK29gm"
      }
    },
    {
      "cell_type": "code",
      "source": [
        "#include<stdio.h>\n",
        "int main()\n",
        "{\n",
        "    unsigned long int a,b;\n",
        "    while((scanf(\"%lu %lu\",&a,&b))==2)\n",
        "    {\n",
        "        if(a>b)\n",
        "            printf(\"%li\\n\",(a-b));\n",
        "        else\n",
        "            printf(\"%li\\n\",(b-a));\n",
        "    }\n",
        "    return 0;\n",
        "}"
      ],
      "metadata": {
        "id": "gqD_ccsh29P9"
      },
      "execution_count": null,
      "outputs": []
    },
    {
      "cell_type": "markdown",
      "source": [
        "**Given a string 'S' swap the even and odd characters starting from index 1(Assume the index starts from 0).\n",
        "Input Size : |s| <= 10000000(complexity O(n))\n",
        "Sample Testcase :\n",
        "INPUT\n",
        "codekata\n",
        "OUTPUT\n",
        "ocedakat**"
      ],
      "metadata": {
        "id": "rdMfy8IL3F4E"
      }
    },
    {
      "cell_type": "code",
      "source": [
        "str = input()\n",
        "output = ''\n",
        "i = 0\n",
        "while i < len(str):\n",
        "        if i + 1 < len(str):\n",
        "                output = output + str[i + 1]\n",
        "                output = output + str[i]\n",
        "        i = i + 2\n",
        "print (output)"
      ],
      "metadata": {
        "id": "zbFlHInG3Fdu"
      },
      "execution_count": null,
      "outputs": []
    },
    {
      "cell_type": "markdown",
      "source": [
        "**Given an array of N elements switch(swap) the element with the adjacent element and print the output.\n",
        "Sample Testcase :\n",
        "INPUT\n",
        "5\n",
        "3 2 1 2 3\n",
        "OUTPUT\n",
        "2 3 2 1 3**"
      ],
      "metadata": {
        "id": "PGWRdZ5j3NqU"
      }
    },
    {
      "cell_type": "code",
      "source": [],
      "metadata": {
        "id": "hxU00hxT3NTJ"
      },
      "execution_count": null,
      "outputs": []
    },
    {
      "cell_type": "markdown",
      "source": [
        "**Write a code to get an integer N and print the sum of  values from 1 to N.\n",
        "\n",
        "Input Description:\n",
        "A single line contains an integer N.\n",
        "\n",
        "Output Description:\n",
        "Print the sum of values from 1 to N.\n",
        "\n",
        "Sample Input :\n",
        "10\n",
        "Sample Output :\n",
        "55**"
      ],
      "metadata": {
        "id": "vUA1zblH3Yzl"
      }
    },
    {
      "cell_type": "code",
      "source": [
        "number=int(input())\n",
        "sum=0\n",
        "for x in range(1,number+1):\n",
        "    sum=sum+x\n",
        "print(sum)"
      ],
      "metadata": {
        "id": "94Kvq7oG3YKw"
      },
      "execution_count": null,
      "outputs": []
    },
    {
      "cell_type": "markdown",
      "source": [
        "**Given 2 numbers N and M add both the numbers and check whether the sum is odd or even.\n",
        "Sample Testcase :\n",
        "INPUT\n",
        "9 2\n",
        "OUTPUT\n",
        "odd**"
      ],
      "metadata": {
        "id": "sH7yozNi3f8v"
      }
    },
    {
      "cell_type": "code",
      "source": [
        "a,b=input().split()\n",
        "sum=int(a)+int(b)\n",
        "if sum % 2 == 0:\n",
        "    print('even')\n",
        "else:\n",
        "    print('odd')"
      ],
      "metadata": {
        "id": "qwZW2Tgf3fpy"
      },
      "execution_count": null,
      "outputs": []
    },
    {
      "cell_type": "markdown",
      "source": [
        "**Given a number N and an array of N elements, find the Bitwise OR of the array elements.\n",
        "Input Size : N <= 100000\n",
        "Sample Testcase :\n",
        "INPUT\n",
        "2\n",
        "2 4\n",
        "OUTPUT\n",
        "6**"
      ],
      "metadata": {
        "id": "skSo3vAC3pVm"
      }
    },
    {
      "cell_type": "code",
      "source": [
        "n=int(input())\n",
        "l=input().split(\" \")\n",
        "bit=int(l[0])\n",
        "for i in l:\n",
        "    bit = bit | int(i)\n",
        "print(bit)    "
      ],
      "metadata": {
        "id": "QPWBmYhJ3o8a"
      },
      "execution_count": null,
      "outputs": []
    },
    {
      "cell_type": "markdown",
      "source": [
        "**Write a code to get an integer N and print the digits of the integer.\n",
        "\n",
        "Input Description:\n",
        "A single line contains an integer N.\n",
        "\n",
        "Output Description:\n",
        "Print the digits of the integer in a single line separated by space,\n",
        "\n",
        "Sample Input :\n",
        "348\n",
        "Sample Output :\n",
        "3 4 8**"
      ],
      "metadata": {
        "id": "ujTfhA-O3w2_"
      }
    },
    {
      "cell_type": "code",
      "source": [
        "a=input()\n",
        "arr=[]\n",
        "for i in a:\n",
        "    arr.append(i)\n",
        "print(*arr)    "
      ],
      "metadata": {
        "id": "b1mpqn2y3wic"
      },
      "execution_count": null,
      "outputs": []
    },
    {
      "cell_type": "markdown",
      "source": [
        "**Write a code get an integer number as input and print the sum of the digits.\n",
        "\n",
        "Input Description:\n",
        "A single line containing an integer.\n",
        "\n",
        "Output Description:\n",
        "Print the sum of the digits of the integer.\n",
        "\n",
        "Sample Input :\n",
        "124\n",
        "Sample Output :\n",
        "7**"
      ],
      "metadata": {
        "id": "B2Wui3Ya4CDw"
      }
    },
    {
      "cell_type": "code",
      "source": [
        "n=int(input())\n",
        "tot=0\n",
        "while(n>0):\n",
        "    dig=n%10\n",
        "    tot=tot+dig\n",
        "    n=n//10\n",
        "print(tot)    "
      ],
      "metadata": {
        "id": "qmLw-k7l4BwR"
      },
      "execution_count": null,
      "outputs": []
    },
    {
      "cell_type": "markdown",
      "source": [
        "**Given a number N and an array of N elements ,find the Bitwise AND of the array elements.\n",
        "Input Size N <= 100000\n",
        "Sample Testcase :\n",
        "INPUT\n",
        "4\n",
        "4 3 2 1\n",
        "OUTPUT\n",
        "0**"
      ],
      "metadata": {
        "id": "TM_yXTw54JWA"
      }
    },
    {
      "cell_type": "code",
      "source": [
        "n=int(input())\n",
        "l=list(map(int,input().split()))\n",
        "sum=l[0]\n",
        "for i in range(1,n):\n",
        "  sum = (sum & int(l[i]))\n",
        "print(sum)\n"
      ],
      "metadata": {
        "id": "1fVLba8T4JBs"
      },
      "execution_count": null,
      "outputs": []
    },
    {
      "cell_type": "markdown",
      "source": [
        "**Write a code to get 2 integers as input and find the HCF of the 2 integer without using recursion or Euclidean algorithm.\n",
        "\n",
        "Input Description:\n",
        "A single line containing 2 integers separated by space.\n",
        "\n",
        "Output Description:\n",
        "Print the HCF of the integers.\n",
        "\n",
        "Sample Input :\n",
        "2 3\n",
        "Sample Output :\n",
        "1**"
      ],
      "metadata": {
        "id": "5F3nXUmV4W3Z"
      }
    },
    {
      "cell_type": "code",
      "source": [
        "x, y = map(int, input().split())\n",
        "if x > y:\n",
        "    smaller = y  \n",
        "else:\n",
        "    smaller = x  \n",
        "for i in range(1,smaller + 1):\n",
        "    if((x % i == 0) and (y % i == 0)):\n",
        "        hcf = i\n",
        "print(hcf)"
      ],
      "metadata": {
        "id": "Hm2EW9_04WfP"
      },
      "execution_count": null,
      "outputs": []
    },
    {
      "cell_type": "markdown",
      "source": [
        "**Write a program to get a string as input and reverse the string without using temporary variable.\n",
        "\n",
        "Input Description:\n",
        "A single line containing a string.\n",
        "\n",
        "Output Description:\n",
        "Print the reversed string.\n",
        "\n",
        "Sample Input :\n",
        "GUVI\n",
        "Sample Output :\n",
        "IVUG**"
      ],
      "metadata": {
        "id": "6H7LbBaG4flb"
      }
    },
    {
      "cell_type": "code",
      "source": [
        "s=input()\n",
        "str = \"\"\n",
        "for i in s:\n",
        "    str = i + str\n",
        "print(str)"
      ],
      "metadata": {
        "id": "CUTgjJZd4fPF"
      },
      "execution_count": null,
      "outputs": []
    },
    {
      "cell_type": "markdown",
      "source": [
        "**Given 3 numbers A,B,C print 'yes' if they can form the sides of a scalene triangle else print 'no'.\n",
        "Input Size : A,B,C <= 100000\n",
        "Sample Testcase :\n",
        "INPUT\n",
        "3 4 5\n",
        "OUTPUT\n",
        "yes**"
      ],
      "metadata": {
        "id": "qvY18oCG4nVG"
      }
    },
    {
      "cell_type": "code",
      "source": [
        "a,b,c=input().split()\n",
        "if a != b and b != c and a != c:\n",
        "    print('yes')\n",
        "else:\n",
        "    print('no')"
      ],
      "metadata": {
        "id": "l2sqsnAC4mqf"
      },
      "execution_count": null,
      "outputs": []
    },
    {
      "cell_type": "markdown",
      "source": [
        "**Write a code to get 2 integers as input and add the integers without any carry.\n",
        "\n",
        "Input Description:\n",
        "A single line containing 2 integers.\n",
        "\n",
        "Output Description:\n",
        "Print sum of the 2 integers without carry\n",
        "\n",
        "Sample Input :\n",
        "44 66\n",
        "Sample Output :\n",
        "0**"
      ],
      "metadata": {
        "id": "XODP_6ib4wum"
      }
    },
    {
      "cell_type": "code",
      "source": [
        "a, b = list(map(int, input().split()))\n",
        "\n",
        "c = a + b\n",
        "\n",
        "d = str(c)\n",
        "A = str(a)\n",
        "B = str(b)\n",
        "\n",
        "if c < 110 and ( len(d) > len(A) or len(d) > len(B)) :\n",
        "    print(d[-1])\n",
        "    \n",
        "elif c > 110 :\n",
        "    print((c - 100)/2)\n",
        " \n",
        "else:\n",
        "    print(c)"
      ],
      "metadata": {
        "id": "fNBPo3LD4wbH"
      },
      "execution_count": null,
      "outputs": []
    },
    {
      "cell_type": "markdown",
      "source": [
        "**Write a code to get a integer n as input and calculate the smallest perfect power of 2 greater than n.\n",
        "\n",
        "Input Description:\n",
        "A single line containing an integer,n.\n",
        "\n",
        "Output Description:\n",
        "Print the smallest perfect power of 2 greater than n.\n",
        "\n",
        "Sample Input :\n",
        "48\n",
        "Sample Output :\n",
        "64**"
      ],
      "metadata": {
        "id": "Gpu9xo--491X"
      }
    },
    {
      "cell_type": "code",
      "source": [
        "s=int(input())\n",
        "n=2\n",
        "d=[]\n",
        "for i in range(20):\n",
        "    n=n*2\n",
        "    d.append(n)\n",
        "for i in d:\n",
        "    if i>s:\n",
        "        print(i)\n",
        "        break"
      ],
      "metadata": {
        "id": "Iqte3sL549cs"
      },
      "execution_count": null,
      "outputs": []
    },
    {
      "cell_type": "markdown",
      "source": [
        "**Given 3 numbers A,B,C print 'yes' if they can form the sides of a right angled triangle,otherwise 'no'.\n",
        "Input Size : A,B,C <= 100000\n",
        "Sample Testcase :\n",
        "INPUT\n",
        "3 4 5\n",
        "OUTPUT\n",
        "yes**"
      ],
      "metadata": {
        "id": "TxDcEgYL5FY0"
      }
    },
    {
      "cell_type": "code",
      "source": [
        "a,b,c=map(int,input().split())\n",
        "\n",
        "if a+b>c and b+c>a and c+a>b:\n",
        "    print(\"yes\")\n",
        "else:\n",
        "    print(\"no\")"
      ],
      "metadata": {
        "id": "4-Qut7h95E-A"
      },
      "execution_count": null,
      "outputs": []
    },
    {
      "cell_type": "markdown",
      "source": [
        "**Given 2 numbers N,M find the GCD of N and M.If it cannot be found for given number(s) then print -1\n",
        "Sample Testcase :\n",
        "INPUT\n",
        "10 5\n",
        "OUTPUT\n",
        "5**"
      ],
      "metadata": {
        "id": "pRBfet9g5NQQ"
      }
    },
    {
      "cell_type": "code",
      "source": [
        "import math\n",
        "M,N=map(int,input().split(\" \"))\n",
        "a=math.gcd(M,N)\n",
        "\n",
        "if M>0 and N>0:\n",
        "  print(a)\n",
        "elif M==0 or N==0:\n",
        "  print(\"-1\")\n",
        "else:\n",
        "  print(\"1\")\n"
      ],
      "metadata": {
        "id": "lwkv3cCC5M5G"
      },
      "execution_count": null,
      "outputs": []
    },
    {
      "cell_type": "markdown",
      "source": [
        "**Let P represent Paper, R represent Rock and S represent Scissors. Given 2 out of the 3 determine which one wins. If its a draw print 'D'.\n",
        "Sample Testcase :\n",
        "INPUT\n",
        "R P\n",
        "OUTPUT\n",
        "P**"
      ],
      "metadata": {
        "id": "RrNAgLtK5UGc"
      }
    },
    {
      "cell_type": "code",
      "source": [],
      "metadata": {
        "id": "wz4ccPJ35T1S"
      },
      "execution_count": null,
      "outputs": []
    },
    {
      "cell_type": "markdown",
      "source": [
        "**Given a string S consisting of 2 words reverse the order of two words .\n",
        "Input Size : |S| <= 10000000\n",
        "Sample Testcase :\n",
        "INPUT\n",
        "hello world\n",
        "OUTPUT\n",
        "world hello**"
      ],
      "metadata": {
        "id": "NvHm3ce85ZMJ"
      }
    },
    {
      "cell_type": "code",
      "source": [
        "string = input()\n",
        "words = string.split()\n",
        "words = list(reversed(words))\n",
        "print(\" \".join(words))"
      ],
      "metadata": {
        "id": "D35e1Ezq5YpU"
      },
      "execution_count": null,
      "outputs": []
    },
    {
      "cell_type": "markdown",
      "source": [
        "**The Caesar Cipher technique is one of the earliest and simplest method of encryption technique. It’s simply a type of substitution cipher, i.e., each letter of a given text is replaced by a letter some fixed number of positions down the alphabet. For example with a shift of 1, A would be replaced by B, B would become C, and so on. The method is apparently named after Julius Caesar, who apparently used it to communicate with his officials.For the given input string(S) and shift print the encrypted string.\n",
        "Sample Testcase :\n",
        "INPUT\n",
        "ABCdEFGHIJKLMNOPQRSTUVWXYz 23\n",
        "OUTPUT\n",
        "XYZaBCDEFGHIJKLMNOPQRSTUVw**"
      ],
      "metadata": {
        "id": "GOk3QKF_5gMc"
      }
    },
    {
      "cell_type": "code",
      "source": [],
      "metadata": {
        "id": "xnD-oQbL5f4u"
      },
      "execution_count": null,
      "outputs": []
    },
    {
      "cell_type": "markdown",
      "source": [
        "**Given 3 numbers N , L and R. Print 'yes' if N is between L and R else print 'no'.\n",
        "Sample Testcase :\n",
        "INPUT\n",
        "3\n",
        "2 6\n",
        "OUTPUT\n",
        "yes**"
      ],
      "metadata": {
        "id": "PO_XG-o15lEI"
      }
    },
    {
      "cell_type": "code",
      "source": [
        "N=int(input())\n",
        "L,R=map(int,input().split())\n",
        "if N in range(L,R):\n",
        "    print('yes')\n",
        "else:\n",
        "    print('no')"
      ],
      "metadata": {
        "id": "nLd6-aTm5kay"
      },
      "execution_count": null,
      "outputs": []
    },
    {
      "cell_type": "markdown",
      "source": [
        "**Given a number N followed by N numbers.Find the smallest number and largest number and print both the indices(1 based indexing).\n",
        "Input Size : N <= 100000\n",
        "Sample Testcase :\n",
        "INPUT\n",
        "5\n",
        "1 2 3 4 5\n",
        "OUTPUT\n",
        "1 5**"
      ],
      "metadata": {
        "id": "7Xo9cp1v5sc0"
      }
    },
    {
      "cell_type": "code",
      "source": [],
      "metadata": {
        "id": "pn8ZuOtu5sBB"
      },
      "execution_count": null,
      "outputs": []
    },
    {
      "cell_type": "markdown",
      "source": [
        "**Write a code to get an integer N and print the values from N to 1.\n",
        "\n",
        "Input Description:\n",
        "A single line contains an integer N.\n",
        "\n",
        "Output Description:\n",
        "Print the values from N to 1 in a separate line.\n",
        "\n",
        "Sample Input :\n",
        "10\n",
        "Sample Output :\n",
        "10\n",
        "9\n",
        "8\n",
        "7\n",
        "6\n",
        "5\n",
        "4\n",
        "3\n",
        "2\n",
        "1**"
      ],
      "metadata": {
        "id": "7TN5PzCF50hD"
      }
    },
    {
      "cell_type": "code",
      "source": [
        "number=int(input())\n",
        "while (number>=1):\n",
        "    print (number)\n",
        "    number-=1"
      ],
      "metadata": {
        "id": "Yd0B9Pg950Im"
      },
      "execution_count": null,
      "outputs": []
    },
    {
      "cell_type": "markdown",
      "source": [
        "**Given a list of N coins, their values (V1, V2, … , VN), and the total sum S. Find the minimum number of coins the sum of which is S (we can use as many coins of one type as we want), if it is not possible to select coins in such a way that they sum up to S then print '-1'.\n",
        "Example: Given coins with values 1, 3, and 5. And the sum S is 11.\n",
        "Output: 3, 2 coins of 3 and 1 coin of 5\n",
        "Input Size : N<=10000\n",
        "Example:\n",
        "INPUT\n",
        "3 11\n",
        "1 3 5\n",
        "OUTPUT\n",
        "3**"
      ],
      "metadata": {
        "id": "jYrUiqbY57Ye"
      }
    },
    {
      "cell_type": "code",
      "source": [],
      "metadata": {
        "id": "p53-NMxM57Gz"
      },
      "execution_count": null,
      "outputs": []
    },
    {
      "cell_type": "markdown",
      "source": [
        "**Write a code get an integer number as input and print the odd and even digits of the number separately.\n",
        "\n",
        "Input Description:\n",
        "A single line containing an integer.\n",
        "\n",
        "Output Description:\n",
        "Print the even and odd integers of the integer in a separate line.\n",
        "\n",
        "Sample Input :\n",
        "1234\n",
        "Sample Output :\n",
        "2 4\n",
        "1 3**"
      ],
      "metadata": {
        "id": "ywJGhN9-6CAJ"
      }
    },
    {
      "cell_type": "code",
      "source": [
        "n=input()\n",
        "even_1st=[]\n",
        "odd_1st=[]\n",
        "for i in n:\n",
        "    if int(i) % 2==0:\n",
        "        even_1st.append(i)\n",
        "    else:\n",
        "        odd_1st.append(i)\n",
        "even_1st.sort()        \n",
        "odd_1st.sort()\n",
        "print(*even_1st)\n",
        "print(*odd_1st)"
      ],
      "metadata": {
        "id": "dpoaPLM86Bs8"
      },
      "execution_count": null,
      "outputs": []
    },
    {
      "cell_type": "markdown",
      "source": [
        "**Given 2 numbers N,M. Print 'yes' if their product is a perfect square else print 'no'.\n",
        "Sample Testcase :\n",
        "INPUT\n",
        "5 5\n",
        "OUTPUT\n",
        "yes**"
      ],
      "metadata": {
        "id": "2jCXnmJL6Iq5"
      }
    },
    {
      "cell_type": "code",
      "source": [
        "import math\n",
        "\n",
        "def isPerfectSquare(x):   \n",
        "    if(x >= 0):\n",
        "        sr = int(math.sqrt(x))        \n",
        "        return ((sr*sr) == x)\n",
        "    return false \n",
        "x,y=input().split()\n",
        "prod=int(x)*int(y)\n",
        "\n",
        "if (isPerfectSquare(prod)):\n",
        "    print(\"yes\")\n",
        "else:\n",
        "    print(\"no\")"
      ],
      "metadata": {
        "id": "iTfnWKNb6IUE"
      },
      "execution_count": null,
      "outputs": []
    },
    {
      "cell_type": "markdown",
      "source": [
        "**Check whether the given 4 points form a square or not.\n",
        "Example:\n",
        "INPUT\n",
        "10 10\n",
        "10 20\n",
        "20 20\n",
        "20 10\n",
        "OUTPUT\n",
        "yes**"
      ],
      "metadata": {
        "id": "QtIKPDvY6QLN"
      }
    },
    {
      "cell_type": "code",
      "source": [],
      "metadata": {
        "id": "3WmhRSZW6Pzm"
      },
      "execution_count": null,
      "outputs": []
    },
    {
      "cell_type": "markdown",
      "source": [
        "**Given 3 numbers A,B,C process and print 'yes' if they can form the sides of a triangle otherwise print 'no'.\n",
        "Input Size : A,B,C <= 100000\n",
        "Sample Testcase :\n",
        "INPUT\n",
        "3 4 5\n",
        "OUTPUT\n",
        "yes**"
      ],
      "metadata": {
        "id": "KvQlE1xS6VJ6"
      }
    },
    {
      "cell_type": "code",
      "source": [
        "a,b,c=map(int,input().split())\n",
        "\n",
        "if a+b>c and b+c>a and c+a>b:\n",
        "    print(\"yes\")\n",
        "else:\n",
        "    print(\"no\")"
      ],
      "metadata": {
        "id": "uYXHkLti6U0p"
      },
      "execution_count": null,
      "outputs": []
    },
    {
      "cell_type": "markdown",
      "source": [
        "**The Romans have attacked again. This time they are much more than the Persians but Shapur is ready to defeat them. He says: 'A lion is never afraid of a hundred sheep'.\n",
        "\n",
        "Nevertheless Shapur has to find weaknesses in the Roman army to defeat them. So he gives the army a weakness number.\n",
        "\n",
        "In Shapur's opinion the weakness of an army is equal to the number of triplets i, j, k such that i < j < k and ai > aj > ak where ax is the power of man standing at position x. The Roman army has one special trait — powers of all the people in it are distinct.\n",
        "\n",
        "Help Shapur find out how weak the Romans are.\n",
        "\n",
        "The first line of input contains a single number n, the number of men in Roman army. Next line contains n different positive integers powers of men in the Roman army.\n",
        "Input Size : N<=100000\n",
        "Example:\n",
        "INPUT\n",
        "3\n",
        "3 2 1\n",
        "OUTPUT\n",
        "1**"
      ],
      "metadata": {
        "id": "XQTU7SHg6bzl"
      }
    },
    {
      "cell_type": "code",
      "source": [],
      "metadata": {
        "id": "iLZ94aL66bgn"
      },
      "execution_count": null,
      "outputs": []
    },
    {
      "cell_type": "markdown",
      "source": [
        "**Given a number N, print the Bitwise NOT of that number.\n",
        "Input Size : 1 <= N <= 10000\n",
        "Sample Testcase :\n",
        "INPUT\n",
        "5\n",
        "OUTPUT\n",
        "-6**"
      ],
      "metadata": {
        "id": "Z2yuK2rX6jl_"
      }
    },
    {
      "cell_type": "code",
      "source": [
        "a=int(input())\n",
        "b=~a\n",
        "print(b)"
      ],
      "metadata": {
        "id": "k-gLKIf96id_"
      },
      "execution_count": null,
      "outputs": []
    }
  ]
}