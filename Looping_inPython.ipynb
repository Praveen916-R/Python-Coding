{
  "nbformat": 4,
  "nbformat_minor": 0,
  "metadata": {
    "colab": {
      "provenance": [],
      "authorship_tag": "ABX9TyMVV6YDfNQk7YcW2eMha5+X",
      "include_colab_link": true
    },
    "kernelspec": {
      "name": "python3",
      "display_name": "Python 3"
    },
    "language_info": {
      "name": "python"
    }
  },
  "cells": [
    {
      "cell_type": "markdown",
      "metadata": {
        "id": "view-in-github",
        "colab_type": "text"
      },
      "source": [
        "<a href=\"https://colab.research.google.com/github/Praveen916-R/Python-Coding/blob/main/Looping_inPython.ipynb\" target=\"_parent\"><img src=\"https://colab.research.google.com/assets/colab-badge.svg\" alt=\"Open In Colab\"/></a>"
      ]
    },
    {
      "cell_type": "markdown",
      "source": [
        "# Write a code to get an integer N and print the digits of the integer.\n",
        "\n",
        "Input Description:\n",
        "A single line contains an integer N.\n",
        "\n",
        "Output Description:\n",
        "Print the digits of the integer in a single line separated by space,\n",
        "\n",
        "Sample Input :\n",
        "348\n",
        "Sample Output :\n",
        "3 4 8"
      ],
      "metadata": {
        "id": "_5yGOZnNvumA"
      }
    },
    {
      "cell_type": "code",
      "execution_count": null,
      "metadata": {
        "id": "Saw78WKbvE2a"
      },
      "outputs": [],
      "source": [
        "a=input()\n",
        "arr=[]\n",
        "for i in a:\n",
        "    arr.append(i)\n",
        "print(*arr)    "
      ]
    },
    {
      "cell_type": "markdown",
      "source": [
        "# Write a code to get an integer N and print the even values from 1 till N in a separate line.\n",
        "\n",
        "Input Description:\n",
        "A single line contains an integer N.\n",
        "\n",
        "Output Description:\n",
        "Print the even values from 1 to N in a separate line.\n",
        "\n",
        "Sample Input :\n",
        "6\n",
        "Sample Output :\n",
        "2\n",
        "4\n",
        "6"
      ],
      "metadata": {
        "id": "nB-SjUZYvxzQ"
      }
    },
    {
      "cell_type": "code",
      "source": [
        "number = int(input())\n",
        "for num in range(1, number+1):\n",
        "    if(num % 2 == 0):\n",
        "        print(num)"
      ],
      "metadata": {
        "id": "Bl1B08NAvxfP"
      },
      "execution_count": null,
      "outputs": []
    },
    {
      "cell_type": "markdown",
      "source": [
        "#Write a program to get a string as input and reverse the string without using temporary variable.\n",
        "\n",
        "Input Description:\n",
        "A single line containing a string.\n",
        "\n",
        "Output Description:\n",
        "Print the reversed string.\n",
        "\n",
        "Sample Input :\n",
        "GUVI\n",
        "Sample Output :\n",
        "IVUG"
      ],
      "metadata": {
        "id": "RGQW7QUsv0jA"
      }
    },
    {
      "cell_type": "code",
      "source": [
        "s=input()\n",
        "str = \"\"\n",
        "for i in s:\n",
        "    str = i + str\n",
        "print(str)"
      ],
      "metadata": {
        "id": "Mmo3AAUdv0Qn"
      },
      "execution_count": null,
      "outputs": []
    },
    {
      "cell_type": "markdown",
      "source": [
        "# Write a code to get an integer N and print the values from N to 1.\n",
        "\n",
        "Input Description:\n",
        "A single line contains an integer N.\n",
        "\n",
        "Output Description:\n",
        "Print the values from N to 1 in a separate line.\n",
        "\n",
        "Sample Input :\n",
        "10\n",
        "Sample Output :\n",
        "10\n",
        "9\n",
        "8\n",
        "7\n",
        "6\n",
        "5\n",
        "4\n",
        "3\n",
        "2\n",
        "1\n"
      ],
      "metadata": {
        "id": "vZk7cTXzv4Mb"
      }
    },
    {
      "cell_type": "code",
      "source": [
        "number=int(input())\n",
        "while (number>=1):\n",
        "    print (number)\n",
        "    number-=1"
      ],
      "metadata": {
        "id": "79EBOLaNv20c"
      },
      "execution_count": null,
      "outputs": []
    },
    {
      "cell_type": "markdown",
      "source": [
        "# Write a code get an integer number as input and print the odd and even digits of the number separately.\n",
        "\n",
        "Input Description:\n",
        "A single line containing an integer.\n",
        "\n",
        "Output Description:\n",
        "Print the even and odd integers of the integer in a separate line.\n",
        "\n",
        "Sample Input :\n",
        "1234\n",
        "Sample Output :\n",
        "2 4\n",
        "1 3"
      ],
      "metadata": {
        "id": "PvZl7H7wv_C5"
      }
    },
    {
      "cell_type": "code",
      "source": [
        "n=input()\n",
        "even_1st=[]\n",
        "odd_1st=[]\n",
        "for i in n:\n",
        "    if int(i) % 2==0:\n",
        "        even_1st.append(i)\n",
        "    else:\n",
        "        odd_1st.append(i)\n",
        "even_1st.sort()        \n",
        "odd_1st.sort()\n",
        "print(*even_1st)\n",
        "print(*odd_1st)"
      ],
      "metadata": {
        "id": "HCVJM4wUv-vZ"
      },
      "execution_count": null,
      "outputs": []
    },
    {
      "cell_type": "markdown",
      "source": [
        "# Write a code to get 2 integers as input and add the integers without any carry.\n",
        "\n",
        "Input Description:\n",
        "A single line containing 2 integers.\n",
        "\n",
        "Output Description:\n",
        "Print sum of the 2 integers without carry\n",
        "\n",
        "Sample Input :\n",
        "44 66\n",
        "Sample Output :\n",
        "0"
      ],
      "metadata": {
        "id": "8CVOZJLuv-fS"
      }
    },
    {
      "cell_type": "code",
      "source": [
        "a, b = list(map(int, input().split()))\n",
        "\n",
        "c = a + b\n",
        "\n",
        "d = str(c)\n",
        "A = str(a)\n",
        "B = str(b)\n",
        "\n",
        "if c < 110 and ( len(d) > len(A) or len(d) > len(B)) :\n",
        "    print(d[-1])\n",
        "    \n",
        "elif c > 110 :\n",
        "    print((c - 100)/2)\n",
        "    \n",
        "else:\n",
        "    print(c)"
      ],
      "metadata": {
        "id": "qHk9nTeJ1f8Q"
      },
      "execution_count": null,
      "outputs": []
    },
    {
      "cell_type": "markdown",
      "source": [
        "# Write a code to get the input and print it 5 times.\n",
        "\n",
        "Input Description:\n",
        "A single line contains an integer N.\n",
        "\n",
        "Output Description:\n",
        "Output contains 5 lines with each line having the value N.\n",
        "\n",
        "Sample Input :\n",
        "4\n",
        "Sample Output :\n",
        "4\n",
        "4\n",
        "4\n",
        "4\n",
        "4"
      ],
      "metadata": {
        "id": "boYfHi-8v97y"
      }
    },
    {
      "cell_type": "code",
      "source": [
        "A=int(input())\n",
        "for count in range(1,5+1):\n",
        "    print(A)\n"
      ],
      "metadata": {
        "id": "dGsQVPyjv9kP"
      },
      "execution_count": null,
      "outputs": []
    },
    {
      "cell_type": "markdown",
      "source": [
        "# Write a code to get 2 integers A and N. Print the integer A, N times in separate line.\n",
        "\n",
        "Input Description:\n",
        "First line contains an integer A. Second line contains an Integer N.\n",
        "\n",
        "Output Description:\n",
        "Print the integer A, N times in a separate line.\n",
        "\n",
        "Sample Input :\n",
        "2 3\n",
        "Sample Output :\n",
        "2\n",
        "2\n",
        "2"
      ],
      "metadata": {
        "id": "l2hf9l9tv9OO"
      }
    },
    {
      "cell_type": "code",
      "source": [
        "A,N=input().split()\n",
        "x=int(N)\n",
        "for a in range(x):\n",
        "    print(A)\n"
      ],
      "metadata": {
        "id": "NuAynx0_wDsP"
      },
      "execution_count": null,
      "outputs": []
    },
    {
      "cell_type": "markdown",
      "source": [
        "# Write a code to get an integer N and print the sum of  values from 1 to N.\n",
        "\n",
        "Input Description:\n",
        "A single line contains an integer N.\n",
        "\n",
        "Output Description:\n",
        "Print the sum of values from 1 to N.\n",
        "\n",
        "Sample Input :\n",
        "10\n",
        "Sample Output :\n",
        "55\n",
        " "
      ],
      "metadata": {
        "id": "ku4WUnv5v8nd"
      }
    },
    {
      "cell_type": "code",
      "source": [
        "number=int(input())\n",
        "sum=0\n",
        "for x in range(1,number+1):\n",
        "    sum=sum+x\n",
        "print(sum)"
      ],
      "metadata": {
        "id": "Cbj2uxeNv8Iz"
      },
      "execution_count": null,
      "outputs": []
    },
    {
      "cell_type": "markdown",
      "source": [
        "# Write a code to get 2 integers as input and find the HCF of the 2 integer without using recursion or Euclidean algorithm.\n",
        "\n",
        "Input Description:\n",
        "A single line containing 2 integers separated by space.\n",
        "\n",
        "Output Description:\n",
        "Print the HCF of the integers.\n",
        "\n",
        "Sample Input :\n",
        "2 3\n",
        "Sample Output :\n",
        "1 "
      ],
      "metadata": {
        "id": "efjjASTRv74b"
      }
    },
    {
      "cell_type": "code",
      "source": [
        "x, y = map(int, input().split())\n",
        "if x > y:\n",
        "    smaller = y  \n",
        "else:\n",
        "    smaller = x  \n",
        "for i in range(1,smaller + 1):\n",
        "    if((x % i == 0) and (y % i == 0)):\n",
        "        hcf = i\n",
        "print(hcf)"
      ],
      "metadata": {
        "id": "ebvK4asev7nG"
      },
      "execution_count": null,
      "outputs": []
    },
    {
      "cell_type": "markdown",
      "source": [
        "# Write a code get an integer number as input and print the sum of the digits.\n",
        "\n",
        "Input Description:\n",
        "A single line containing an integer.\n",
        "\n",
        "Output Description:\n",
        "Print the sum of the digits of the integer.\n",
        "\n",
        "Sample Input :\n",
        "124\n",
        "Sample Output :\n",
        "7 "
      ],
      "metadata": {
        "id": "Q5RxMQl3v7XA"
      }
    },
    {
      "cell_type": "code",
      "source": [
        "n=int(input())\n",
        "tot=0\n",
        "while(n>0):\n",
        "    dig=n%10\n",
        "    tot=tot+dig\n",
        "    n=n//10\n",
        "print(tot)    "
      ],
      "metadata": {
        "id": "mJ_Xs9vTv69v"
      },
      "execution_count": null,
      "outputs": []
    },
    {
      "cell_type": "markdown",
      "source": [
        "# Write a program to get a list of integers as input and find the LCM of the values without using GCD\n",
        "\n",
        "Input Description:\n",
        "First line contains an integer N, number of values. Second line contains N space separated values.\n",
        "\n",
        "Output Description:\n",
        "Print the LCM of the values.\n",
        "\n",
        "Sample Input :\n",
        "1 2 3 4 5\n",
        "Sample Output :\n",
        "60 "
      ],
      "metadata": {
        "id": "9xTe47vRv6q9"
      }
    },
    {
      "cell_type": "code",
      "source": [
        "def LCM(arr, n):\n",
        "    max_num = 0;\n",
        "    for i in range(n):\n",
        "        if (max_num < arr[i]):\n",
        "            max_num = arr[i];\n",
        "    res = 1;\n",
        "    \n",
        "    x = 2;\n",
        "    while (x <= max_num):\n",
        "         \n",
        "        indexes = [];\n",
        "        for j in range(n):\n",
        "            if (arr[j] % x == 0):\n",
        "                indexes.append(j);\n",
        "\n",
        "        if (len(indexes) >= 2):\n",
        "  \n",
        "            for j in range(len(indexes)):\n",
        "                arr[indexes[j]] = int(arr[indexes[j]] / x);\n",
        " \n",
        "            res = res * x;\n",
        "        else:\n",
        "            x += 1;\n",
        "\n",
        "    for i in range(n):\n",
        "        res = res * arr[i];\n",
        " \n",
        "    return res;\n",
        "    \n",
        "a=int(input())\n",
        "arr =list(map(int,input().split()))\n",
        "n = len(arr)\n",
        "print(LCM(arr, n))"
      ],
      "metadata": {
        "id": "KA3qRI2hv6Xe"
      },
      "execution_count": null,
      "outputs": []
    },
    {
      "cell_type": "markdown",
      "source": [
        "#  Write a code to get an integer N and print values from 1 till N in a separate line.\n",
        "\n",
        "Input Description:\n",
        "A single line contains an integer N.\n",
        "\n",
        "Output Description:\n",
        "Print the values from 1 to N in a separate line.\n",
        "\n",
        "Sample Input :\n",
        "5\n",
        "Sample Output :\n",
        "1\n",
        "2\n",
        "3\n",
        "4\n",
        "5"
      ],
      "metadata": {
        "id": "APBbiammv5aZ"
      }
    },
    {
      "cell_type": "code",
      "source": [
        "num=int(input())\n",
        "for x in range(1,num+1):\n",
        "    print (x)"
      ],
      "metadata": {
        "id": "qilCcUrLv5KQ"
      },
      "execution_count": null,
      "outputs": []
    },
    {
      "cell_type": "markdown",
      "source": [
        "# Write a code to get a integer n as input and calculate the smallest perfect power of 2 greater than n.\n",
        "\n",
        "Input Description:\n",
        "A single line containing an integer,n.\n",
        "\n",
        "Output Description:\n",
        "Print the smallest perfect power of 2 greater than n.\n",
        "\n",
        "Sample Input :\n",
        "48\n",
        "Sample Output :\n",
        "64"
      ],
      "metadata": {
        "id": "rNA9eY9JyVY2"
      }
    },
    {
      "cell_type": "code",
      "source": [
        "s=int(input())\n",
        "n=2\n",
        "d=[]\n",
        "for i in range(20):\n",
        "    n=n*2\n",
        "    d.append\n",
        "for i in d:\n",
        "    if i>s:\n",
        "        print(i)\n",
        "        break"
      ],
      "metadata": {
        "id": "h4-dNULz2g25"
      },
      "execution_count": null,
      "outputs": []
    }
  ]
}