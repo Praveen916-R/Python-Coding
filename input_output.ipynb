{
  "nbformat": 4,
  "nbformat_minor": 0,
  "metadata": {
    "colab": {
      "provenance": []
    },
    "kernelspec": {
      "name": "python3",
      "display_name": "Python 3"
    },
    "language_info": {
      "name": "python"
    }
  },
  "cells": [
    {
      "cell_type": "markdown",
      "source": [
        "Write a code to get the input in the given format and print the output in the given format\n",
        "\n",
        "Input Description:\n",
        "To take an integer value\n",
        "\n",
        "Output Description:\n",
        "Print the integer value ****"
      ],
      "metadata": {
        "id": "2tMOhELXRACl"
      }
    },
    {
      "cell_type": "code",
      "execution_count": null,
      "metadata": {
        "colab": {
          "base_uri": "https://localhost:8080/"
        },
        "id": "v9NwqFlYPWCW",
        "outputId": "2affc07d-40df-4e89-c7ee-3bb6120d6776"
      },
      "outputs": [
        {
          "output_type": "stream",
          "name": "stdout",
          "text": [
            "2\n",
            "2\n"
          ]
        }
      ],
      "source": [
        "A=int(input())\n",
        "print(A)\n"
      ]
    },
    {
      "cell_type": "markdown",
      "source": [
        " Write a code to get the input in the given format and print the output in the given format\n",
        "\n",
        "Input Description:\n",
        "A single line contains integers separated by space\n",
        "\n",
        "Output Description:\n",
        "Print the integer list of integers separated by space "
      ],
      "metadata": {
        "id": "xOVm-rOlRQRq"
      }
    },
    {
      "cell_type": "code",
      "source": [
        "A,B,C,D,E,F,G=input().split()\n",
        "print(A,B,C,D,E,F,G)"
      ],
      "metadata": {
        "colab": {
          "base_uri": "https://localhost:8080/"
        },
        "id": "BObVQWI9Q7kb",
        "outputId": "3566d071-1adb-42f4-829e-6ea9fdaa601d"
      },
      "execution_count": null,
      "outputs": [
        {
          "output_type": "stream",
          "name": "stdout",
          "text": [
            "2 3 4 5 6 7 8\n",
            "2 3 4 5 6 7 8\n"
          ]
        }
      ]
    },
    {
      "cell_type": "markdown",
      "source": [
        "Write a code to get the input in the given format and print the output in the given format.\n",
        "\n",
        "Input Description:\n",
        "First-line indicates two integers which are the size of array and 'K' value. Second-line indicates an integer contains elements of an array.\n",
        "\n",
        "Output Description:\n",
        "Print the taken input in the same format."
      ],
      "metadata": {
        "id": "2W7-val8Ri6W"
      }
    },
    {
      "cell_type": "code",
      "source": [
        "a=input().split(\" \")\n",
        "b=input().split(\" \")\n",
        "c=list(map(int,a))\n",
        "d=list(map(int,b))\n",
        "print(*c)\n",
        "print(*d)"
      ],
      "metadata": {
        "colab": {
          "base_uri": "https://localhost:8080/"
        },
        "id": "HKSosMfNQ7g5",
        "outputId": "0a31cb8e-7093-41a1-e988-f905dea7c714"
      },
      "execution_count": null,
      "outputs": [
        {
          "output_type": "stream",
          "name": "stdout",
          "text": [
            "5 3 1 2 3 4 5\n",
            "5 3\n",
            "5 3 1 2 3 4 5\n",
            "5 3\n"
          ]
        }
      ]
    },
    {
      "cell_type": "markdown",
      "source": [
        "Write a code to get the input in the given format and print the output in the given format\n",
        "\n",
        "Input Description:\n",
        "First-line indicates two integers separated by space. Second-line indicates two integers separated by space. Third-line indicates two integers separated by space.\n",
        "\n",
        "Output Description:\n",
        "Print the input in the same format."
      ],
      "metadata": {
        "id": "sL9VLVJeR2vs"
      }
    },
    {
      "cell_type": "code",
      "source": [
        "val=input().split()\n",
        "val2=input().split()\n",
        "val3=input().split()\n",
        "print(*val,sep=' ')\n",
        "print(*val2,sep=' ')\n",
        "print(*val3,sep=' ')"
      ],
      "metadata": {
        "colab": {
          "base_uri": "https://localhost:8080/"
        },
        "id": "FWwZKpFGQ7dh",
        "outputId": "17ceb0d4-72b4-4c2e-cf91-241fcfeca1bd"
      },
      "execution_count": null,
      "outputs": [
        {
          "output_type": "stream",
          "name": "stdout",
          "text": [
            "2 4\n",
            "2 4\n",
            "2 4\n",
            "2 4\n",
            "2 4\n",
            "2 4\n"
          ]
        }
      ]
    },
    {
      "cell_type": "markdown",
      "source": [
        "Write a code to get the input in the given format and print the output in the given format\n",
        "\n",
        "Input Description:\n",
        "Three integers are given in line by line.\n",
        "\n",
        "Output Description:\n",
        "Print the integers in a single line separate by space."
      ],
      "metadata": {
        "id": "y5TUSGWcSIPc"
      }
    },
    {
      "cell_type": "code",
      "source": [
        "A=int(input())\n",
        "B=int(input())\n",
        "C=int(input())\n",
        "print(A,B,C)"
      ],
      "metadata": {
        "colab": {
          "base_uri": "https://localhost:8080/"
        },
        "id": "_3-N3yuZQ7aj",
        "outputId": "4cb0cc82-71e9-45cc-cc6f-76d5800b032d"
      },
      "execution_count": null,
      "outputs": [
        {
          "output_type": "stream",
          "name": "stdout",
          "text": [
            "2\n",
            "4\n",
            "5\n",
            "2 4 5\n"
          ]
        }
      ]
    },
    {
      "cell_type": "markdown",
      "source": [
        "Write a code to get the input in the given format and print the output in the given format\n",
        "\n",
        "Input Description:\n",
        "First-line indicates two integers separated by space. Second-line indicates three integers separated by space. Third-line indicates three integers separated by space\n",
        "\n",
        "Output Description:\n",
        "Print the input in the same format."
      ],
      "metadata": {
        "id": "g7go2TlNS03s"
      }
    },
    {
      "cell_type": "code",
      "source": [
        "val=input().split()\n",
        "val2=input().split()\n",
        "val3=input().split()\n",
        "print(*val,sep=' ')\n",
        "print(*val2,sep=' ')\n",
        "print(*val3,sep=' ')"
      ],
      "metadata": {
        "colab": {
          "base_uri": "https://localhost:8080/"
        },
        "id": "7afroaz5StvU",
        "outputId": "348c0e42-80c2-4ac2-ae0f-813dff08df91"
      },
      "execution_count": null,
      "outputs": [
        {
          "output_type": "stream",
          "name": "stdout",
          "text": [
            "2 5\n",
            "2 5 6\n",
            "2 4 6\n",
            "2 5\n",
            "2 5 6\n",
            "2 4 6\n"
          ]
        }
      ]
    },
    {
      "cell_type": "markdown",
      "source": [
        "Write a code to get the input in the given format and print the output in the given format\n",
        "\n",
        "Input Description:\n",
        "A single line contains a string.\n",
        "\n",
        "Output Description:\n",
        "Print the characters in a string separated by space."
      ],
      "metadata": {
        "id": "UiMK1ccFS_Kg"
      }
    },
    {
      "cell_type": "code",
      "source": [
        "a=input()\n",
        "for i in a[0:-1]:\n",
        "    print(i,end=\" \")\n",
        "print(a[len(a)-1])"
      ],
      "metadata": {
        "colab": {
          "base_uri": "https://localhost:8080/"
        },
        "id": "FajgvgC9SxYo",
        "outputId": "1b3b4ec2-87e4-4ac1-bdc5-7021329fe653"
      },
      "execution_count": null,
      "outputs": [
        {
          "output_type": "stream",
          "name": "stdout",
          "text": [
            "guvi\n",
            "g u v i\n"
          ]
        }
      ]
    },
    {
      "cell_type": "markdown",
      "source": [
        "Write a code to get the input in the given format and print the output in the given format.\n",
        "\n",
        "Input Description:\n",
        "A single line contains three float values separated by space.\n",
        "\n",
        "Output Description:\n",
        "Print the float value separated by line.\n"
      ],
      "metadata": {
        "id": "M0TWl9h_TH3Q"
      }
    },
    {
      "cell_type": "code",
      "source": [
        "val=input().split()\n",
        "print(*val,sep='\\n')"
      ],
      "metadata": {
        "colab": {
          "base_uri": "https://localhost:8080/"
        },
        "id": "-1RPPbZ1THT3",
        "outputId": "c0a1f49d-d8f7-4cd6-b0bf-81dc71c8dd63"
      },
      "execution_count": null,
      "outputs": [
        {
          "output_type": "stream",
          "name": "stdout",
          "text": [
            "2.3 4.5 7.8\n",
            "2.3\n",
            "4.5\n",
            "7.8\n"
          ]
        }
      ]
    },
    {
      "cell_type": "markdown",
      "source": [
        "Write a code to get the input in the given format and print the output in the given format.\n",
        "\n",
        "Input Description:\n",
        "A single line contains a string.\n",
        "\n",
        "Output Description:\n",
        "Print the characters in a string separated by line."
      ],
      "metadata": {
        "id": "7dExPqvtTWyB"
      }
    },
    {
      "cell_type": "code",
      "source": [
        "str=input()\n",
        "chars=list(str)\n",
        "print(*chars,sep='\\n')"
      ],
      "metadata": {
        "colab": {
          "base_uri": "https://localhost:8080/"
        },
        "id": "X5C5RzhdTWWh",
        "outputId": "a025cbb9-d815-4369-b9cd-96cca015226f"
      },
      "execution_count": null,
      "outputs": [
        {
          "output_type": "stream",
          "name": "stdout",
          "text": [
            "guvigeek\n",
            "g\n",
            "u\n",
            "v\n",
            "i\n",
            "g\n",
            "e\n",
            "e\n",
            "k\n"
          ]
        }
      ]
    },
    {
      "cell_type": "markdown",
      "source": [
        "Write a code to get the input in the given format and print the output in the given format.\n",
        "\n",
        "Input Description:\n",
        "A single line contains a string.\n",
        "\n",
        "Output Description:\n",
        "Print the characters in a string separated by comma."
      ],
      "metadata": {
        "id": "b8H8l2oATjsP"
      }
    },
    {
      "cell_type": "code",
      "source": [
        "str=input()\n",
        "chars=list(str)\n",
        "print(*chars,sep=',')"
      ],
      "metadata": {
        "colab": {
          "base_uri": "https://localhost:8080/"
        },
        "id": "TvDIhtpNTjXp",
        "outputId": "571a1812-fe87-45f0-b956-2e4d8aa19af6"
      },
      "execution_count": null,
      "outputs": [
        {
          "output_type": "stream",
          "name": "stdout",
          "text": [
            "guvi\n",
            "g,u,v,i\n"
          ]
        }
      ]
    }
  ]
}