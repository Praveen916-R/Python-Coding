{
  "nbformat": 4,
  "nbformat_minor": 0,
  "metadata": {
    "colab": {
      "provenance": [],
      "authorship_tag": "ABX9TyP13Yawz2SBk+4p3YoZ4G1C",
      "include_colab_link": true
    },
    "kernelspec": {
      "name": "python3",
      "display_name": "Python 3"
    },
    "language_info": {
      "name": "python"
    }
  },
  "cells": [
    {
      "cell_type": "markdown",
      "metadata": {
        "id": "view-in-github",
        "colab_type": "text"
      },
      "source": [
        "<a href=\"https://colab.research.google.com/github/Praveen916-R/Python-Coding/blob/main/Absolute_Beginner_Coding_inPython.ipynb\" target=\"_parent\"><img src=\"https://colab.research.google.com/assets/colab-badge.svg\" alt=\"Open In Colab\"/></a>"
      ]
    },
    {
      "cell_type": "markdown",
      "source": [
        "****You are given three numbers A, B & C. Print the largest amongst these three numbers.\n",
        "\n",
        "Input Description:\n",
        "Three numbers are provided to you.\n",
        "\n",
        "Output Description:\n",
        "Find and print the largest among the three\n"
      ],
      "metadata": {
        "id": "sKwK0gx_fvWZ"
      }
    },
    {
      "cell_type": "code",
      "source": [
        "A=int(input())\n",
        "B=int(input())\n",
        "C=int(input())\n",
        "if((A>B)and(A>C)):\n",
        "    print(A)\n",
        "elif ((B>A)and(B>C)):\n",
        "    print(B)\n",
        "else:\n",
        "    print(C)"
      ],
      "metadata": {
        "id": "mLUfdH06krCX"
      },
      "execution_count": null,
      "outputs": []
    },
    {
      "cell_type": "markdown",
      "source": [
        "****You are given Two Numbers, A and B. If C = A + B. Find C.\n",
        "\n",
        "Note: Round off the output to a single decimal place.\n",
        "\n",
        "Input Description:\n",
        "You are provided with two numbers A and B.\n",
        "\n",
        "Output Description:\n",
        "Find the sum of the two numbers (A + B)\n"
      ],
      "metadata": {
        "id": "4_xqpcqSgG4p"
      }
    },
    {
      "cell_type": "code",
      "source": [
        "A=float(input())\n",
        "B=float(input())\n",
        "print(round((A+B),1))"
      ],
      "metadata": {
        "id": "Kg1tEQvwkuSy"
      },
      "execution_count": null,
      "outputs": []
    },
    {
      "cell_type": "markdown",
      "source": [
        "# ****You are given A = Length of a rectangle & B = breadth of a rectangle. Find its area “C”.\n",
        "\n",
        "(A and B are natural numbers)\n",
        "\n",
        "Input Description:\n",
        "The inputs are two natural numbers representing the length and the breadth of a rectangle.\n",
        "\n",
        "Output Description:\n",
        "Find the area of the rectangle formed by the provided input. Round off the answer to the first decimal place if required."
      ],
      "metadata": {
        "id": "8_kUQUqWgk24"
      }
    },
    {
      "cell_type": "code",
      "source": [
        "L=int(input())\n",
        "B=int(input())\n",
        "print(round((L*B),1))"
      ],
      "metadata": {
        "id": "3Zhfx2s1kzhT"
      },
      "execution_count": null,
      "outputs": []
    },
    {
      "cell_type": "markdown",
      "source": [
        "# You are provided with the radius of a circle \"A\". Find the length of its circumference.\n",
        "\n",
        "Note: In case the output is coming in decimal, roundoff to 2nd decimal place. In case the input is a negative number, print \"Error\".\n",
        "\n",
        "Input Description:\n",
        "The Radius of a circle is provided as the input of the program.\n",
        "\n",
        "Output Description:\n",
        "Calculate and print the Circumference of the circle corresponding to the input radius up to two decimal places."
      ],
      "metadata": {
        "id": "m6shnEfzg7-y"
      }
    },
    {
      "cell_type": "code",
      "source": [
        "A=float(input())\n",
        "c=2*(22*A)\n",
        "D=c/7\n",
        "print(round(D,2))"
      ],
      "metadata": {
        "id": "UoIpjLSqk3Iv"
      },
      "execution_count": null,
      "outputs": []
    },
    {
      "cell_type": "markdown",
      "source": [
        "# Print the First 3 multiples of the given number \"N\". (N is a positive integer)\n",
        "\n",
        "Note: print the characters with a single space between them.\n",
        "\n",
        "Input Description:\n",
        "A positive integer is provided to you as an input.\n",
        "\n",
        "Output Description:\n",
        "Print the First 3 multiples of the number with single spaces between them as an output."
      ],
      "metadata": {
        "id": "lbx4-KQ3hLHr"
      }
    },
    {
      "cell_type": "code",
      "source": [
        "i=int(input())\n",
        "print(i,i*2,i*3)"
      ],
      "metadata": {
        "id": "ktE7n7Bsk6Yv"
      },
      "execution_count": null,
      "outputs": []
    },
    {
      "cell_type": "markdown",
      "source": [
        "# You are given with a number \"N\", find its cube.\n",
        "\n",
        "Input Description:\n",
        "A positive integer is provided.\n",
        "\n",
        "Output Description:\n",
        "Find the cube of the number."
      ],
      "metadata": {
        "id": "R4oc24bLhYIl"
      }
    },
    {
      "cell_type": "code",
      "source": [
        "N=int(input())\n",
        "print(pow(N,3))"
      ],
      "metadata": {
        "id": "kHp_biLSk91f"
      },
      "execution_count": null,
      "outputs": []
    },
    {
      "cell_type": "markdown",
      "source": [
        "# You are provided with a number \"N\", Find the Nth term of the series: 1, 4, 9, 16, 25, 36, 49, 64, 81, .......\n",
        "\n",
        "(Print \"Error\" if N = negative value and 0 if N = 0).\n",
        "\n",
        "Input Description:\n",
        "An integer N is provided to you as the input.\n",
        "\n",
        "Output Description:\n",
        "Find the Nth term in the provided series."
      ],
      "metadata": {
        "id": "z53pxU8zhqXT"
      }
    },
    {
      "cell_type": "code",
      "source": [
        "n=int(input())\n",
        "print(n**2)"
      ],
      "metadata": {
        "colab": {
          "base_uri": "https://localhost:8080/"
        },
        "id": "TAaRSpaZhqBQ",
        "outputId": "ef7f2238-8606-4672-cbeb-a2a3a3e792d4"
      },
      "execution_count": null,
      "outputs": [
        {
          "output_type": "stream",
          "name": "stdout",
          "text": [
            "18\n",
            "324\n"
          ]
        }
      ]
    },
    {
      "cell_type": "markdown",
      "source": [
        "#Using the method of looping, write a program to print the table of 9 till N in the format as follows:\n",
        "(N is input by the user)\n",
        "\n",
        "9 18 27...\n",
        "\n",
        "Print NULL if 0 is input\n",
        "\n",
        "Input Description:\n",
        "A positive integer is provided as an input.\n",
        "\n",
        "Output Description:\n",
        " Print the table of nine with single space between the elements till the number that is input."
      ],
      "metadata": {
        "id": "vD3ogBVPh3M5"
      }
    },
    {
      "cell_type": "code",
      "source": [
        "N=int(input())\n",
        "arr=[]\n",
        "for i in range(1,N+1):\n",
        "    arr.append(i*9)\n",
        "print(*arr)     "
      ],
      "metadata": {
        "id": "9Xt1apC0lIaB"
      },
      "execution_count": null,
      "outputs": []
    },
    {
      "cell_type": "markdown",
      "source": [
        "# Write a code to get the input and print it 5 times.\n",
        "\n",
        "Input Description:\n",
        "A single line contains an integer N.\n",
        "\n",
        "Output Description:\n",
        "Output contains 5 lines with each line having the value N."
      ],
      "metadata": {
        "id": "XaFiMekTiLST"
      }
    },
    {
      "cell_type": "code",
      "source": [
        "A=int(input())\n",
        "for count in range(1,5+1):\n",
        "    print(A)"
      ],
      "metadata": {
        "id": "e2N0pB6SnyKT"
      },
      "execution_count": null,
      "outputs": []
    },
    {
      "cell_type": "markdown",
      "source": [
        "# You will be provided with a number. Print the number of days in the month corresponding to that number.\n",
        "\n",
        "Note: In case the input is February, print 28 days. If the Input is not in valid range print \"Error\".\n",
        "\n",
        "Input Description:\n",
        "The input is in the form of a number.\n",
        "\n",
        "Output Description:\n",
        "Find the days in the month corresponding to the input number. Print Error if the input is not in a valid range."
      ],
      "metadata": {
        "id": "_6_F5h-Gid16"
      }
    },
    {
      "cell_type": "code",
      "source": [
        "list=[1,3,5,7,8,10,12]\n",
        "m=int(input())\n",
        "if m not in list:\n",
        "    print(\"Error\")\n",
        "elif m in list:\n",
        "    print(\"31\")\n",
        "elif(m==2):\n",
        "    print(\"28\")\n",
        "else:\n",
        "    print(\"30\")\n"
      ],
      "metadata": {
        "id": "gqIIP1S6n2JO"
      },
      "execution_count": null,
      "outputs": []
    },
    {
      "cell_type": "markdown",
      "source": [
        "# You are given with a number A i.e. the temperature in Celcius. Write a program to convert this into Fahrenheit. \n",
        "\n",
        "Note: In case of decimal values, round-off to two decimal places.\n",
        "\n",
        "Input Description:\n",
        "A number is provided in Celcius as the input of the program.\n",
        "\n",
        "Output Description:\n",
        "The output shall be the temperature converted into Fahrenheit corresponding to the input value print up to two decimal places and round off if required."
      ],
      "metadata": {
        "id": "urWocW2didXS"
      }
    },
    {
      "cell_type": "code",
      "source": [
        "celsius=float(input(\"\"))\n",
        "fahrenheit=(celsius*9/5)+32\n",
        "print('%.2f' %(fahrenheit))"
      ],
      "metadata": {
        "id": "1J6gw9bpoEJp"
      },
      "execution_count": null,
      "outputs": []
    },
    {
      "cell_type": "markdown",
      "source": [
        "# Write a code to get 2 integers A and N. Print the integer A, N times in separate line.\n",
        "\n",
        "Input Description:\n",
        "First line contains an integer A. Second line contains an Integer N.\n",
        "\n",
        "Output Description:\n",
        "Print the integer A, N times in a separate line."
      ],
      "metadata": {
        "id": "n62ME4-7ic5Y"
      }
    },
    {
      "cell_type": "code",
      "source": [
        "A,N=input().split()\n",
        "x=int(N)\n",
        "for a in range(x):\n",
        "    print(A)"
      ],
      "metadata": {
        "id": "mpeUk4D8oIwr"
      },
      "execution_count": null,
      "outputs": []
    },
    {
      "cell_type": "markdown",
      "source": [
        "# You are provided with a number, \"N\". Find its factorial.\n",
        "\n",
        "Input Description:\n",
        "A positive integer is provided as an input.\n",
        "\n",
        "Output Description:\n",
        "Print the factorial of the integer."
      ],
      "metadata": {
        "id": "LeQ2ZAn8icYg"
      }
    },
    {
      "cell_type": "code",
      "source": [
        "num=int(input())\n",
        "fact=1\n",
        "for i in range(1,num + 1):\n",
        "       fact = fact*i\n",
        "print(fact)"
      ],
      "metadata": {
        "id": "FsFQ1TH4icI2"
      },
      "execution_count": null,
      "outputs": []
    },
    {
      "cell_type": "markdown",
      "source": [
        "# You are provided with a number, \"N\". Find its factorial.\n",
        "\n",
        "Input Description:\n",
        "A positive integer is provided as an input.\n",
        "\n",
        "Output Description:\n",
        "Print the factorial of the integer."
      ],
      "metadata": {
        "id": "fn_rB-tzib4Q"
      }
    },
    {
      "cell_type": "code",
      "source": [
        "num=int(input())\n",
        "fact=1\n",
        "for i in range(1,num + 1):\n",
        "       fact = fact*i\n",
        "print(fact)"
      ],
      "metadata": {
        "id": "Wb-kbVxTibkV"
      },
      "execution_count": null,
      "outputs": []
    },
    {
      "cell_type": "markdown",
      "source": [
        "# You are given the coefficients of a quadratic equation in order A, B & C.\n",
        "\n",
        "Where A is the coefficient of X2,  B is the coefficient of X and C is the constant term in the most simplified form.\n",
        "\n",
        "Example: For  X2 + 5X + 6 = 0, you are given the input as: 1 5 6.\n",
        "\n",
        "Write a program to find all of the roots of the quadratic.\n",
        "\n",
        "Note: The output should be up to 2nd decimal place (round off if needed) and in case of a recurring decimal use braces i.e. for eg: 0.33333..... => 0.33.\n",
        "\n",
        "Note: Use Shri Dharacharya's Method to solve i.e. X = {-b + √(b² - 4ac) } / 2a & {-b-√(b² -4ac)} / 2a\n",
        "\n",
        "Input Description:\n",
        "Three numbers corresponding to the coefficients of x(squared), x and constant are given as an input in that particular order\n",
        "\n",
        "Output Description:\n",
        "Print the two values of X after rounding off to 2 decimal places if required."
      ],
      "metadata": {
        "id": "6sWNYJ4hibPO"
      }
    },
    {
      "cell_type": "code",
      "source": [
        "a,b,c=map(int,input().split())\n",
        "d=((b**2)-(4*a*c))**0.5\n",
        "m=(d-b)/(2*a)\n",
        "n=-(d+b)/(2*a)\n",
        "print(f'{m:.2f}')\n",
        "print(f'{n:.2f}')"
      ],
      "metadata": {
        "id": "z213UbO6ia4A"
      },
      "execution_count": null,
      "outputs": []
    },
    {
      "cell_type": "markdown",
      "source": [
        "# Let \"A\" be a year, write a program to check whether this year is a leap year or not.\n",
        "\n",
        "Print \"Y\" if its a leap year and \"N\" if its a common year.\n",
        "\n",
        "Input Description:\n",
        "A Year is the input in the form of a positive integer.\n",
        "\n",
        "Output Description:\n",
        "Print \"Y\" if its a leap year and \"N\" if its a common year."
      ],
      "metadata": {
        "id": "MGu-w7Cuiakv"
      }
    },
    {
      "cell_type": "code",
      "source": [
        "A=int(input())\n",
        "if((A%4==0) or (A%100!=0) and (A%4==0)):\n",
        "    print(\"Y\")\n",
        "else:\n",
        "    print(\"N\")"
      ],
      "metadata": {
        "id": "9Faqylu8iaKN"
      },
      "execution_count": null,
      "outputs": []
    },
    {
      "cell_type": "markdown",
      "source": [
        "# Write a code to get an integer N and print values from 1 till N in a separate line.\n",
        "\n",
        "Input Description:\n",
        "A single line contains an integer N.\n",
        "\n",
        "Output Description:\n",
        "Print the values from 1 to N in a separate line."
      ],
      "metadata": {
        "id": "fPQ4au-xiZKq"
      }
    },
    {
      "cell_type": "code",
      "source": [
        "num=int(input())\n",
        "for x in range(1,num+1):\n",
        "    print (x)"
      ],
      "metadata": {
        "id": "sNGYNFTXiY3o"
      },
      "execution_count": null,
      "outputs": []
    },
    {
      "cell_type": "markdown",
      "source": [
        "# You are given with Principle amount($), Interest Rate(%) and Time (years) in that order. Find Simple Interest.\n",
        "\n",
        "Print the output up to two decimal places (Round-off if necessary).\n",
        "\n",
        "(S.I. = P*T*R/100)\n",
        "\n",
        "Input Description:\n",
        "Three values are given to you as the input. these values correspond to Principle amount, Interest Rate and Time in that particular order.\n",
        "\n",
        "Output Description:\n",
        "Find the Simple interest and print it up to two decimal places. Round off if required."
      ],
      "metadata": {
        "id": "botHw3JfiYe6"
      }
    },
    {
      "cell_type": "code",
      "source": [
        "P,T,R=map(float,input().split(' '))\n",
        "A=P*T*R\n",
        "B=A/100\n",
        "print(round(B,2))"
      ],
      "metadata": {
        "id": "vyYXUu9fiYMr"
      },
      "execution_count": null,
      "outputs": []
    },
    {
      "cell_type": "markdown",
      "source": [
        "# Write a code to get an integer N and print the digits of the integer.\n",
        "\n",
        "Input Description:\n",
        "A single line contains an integer N.\n",
        "\n",
        "Output Description:\n",
        "Print the digits of the integer in a single line separated by space,"
      ],
      "metadata": {
        "id": "fk5EP6LPqYbZ"
      }
    },
    {
      "cell_type": "code",
      "source": [
        "a=input()\n",
        "arr=[]\n",
        "for i in a:\n",
        "    arr.append(i)\n",
        "print(*arr)    "
      ],
      "metadata": {
        "id": "Q-FvNlcLqYF-"
      },
      "execution_count": null,
      "outputs": []
    },
    {
      "cell_type": "markdown",
      "source": [
        "# Write a code to get an integer N and print the even values from 1 till N in a separate line.\n",
        "\n",
        "Input Description:\n",
        "A single line contains an integer N.\n",
        "\n",
        "Output Description:\n",
        "Print the even values from 1 to N in a separate line."
      ],
      "metadata": {
        "id": "S8p-BhjgqVQS"
      }
    },
    {
      "cell_type": "code",
      "source": [
        "number = int(input())\n",
        "for num in range(1, number+1):\n",
        "    if(num % 2 == 0):\n",
        "        print(num)"
      ],
      "metadata": {
        "id": "DBplr1MyqU_r"
      },
      "execution_count": null,
      "outputs": []
    },
    {
      "cell_type": "markdown",
      "source": [
        "# Write a code to get an integer N and print the sum of  values from 1 to N.\n",
        "\n",
        "Input Description:\n",
        "A single line contains an integer N.\n",
        "\n",
        "Output Description:\n",
        "Print the sum of values from 1 to N."
      ],
      "metadata": {
        "id": "sHFZ1L4nqSBL"
      }
    },
    {
      "cell_type": "code",
      "source": [
        "number=int(input())\n",
        "sum=0\n",
        "for x in range(1,number+1):\n",
        "    sum=sum+x\n",
        "print(sum)"
      ],
      "metadata": {
        "id": "bVDKOqRXqRtS"
      },
      "execution_count": null,
      "outputs": []
    },
    {
      "cell_type": "markdown",
      "source": [
        "# Write a code get an integer number as input and print the sum of the digits.\n",
        "\n",
        "Input Description:\n",
        "A single line containing an integer.\n",
        "\n",
        "Output Description:\n",
        "Print the sum of the digits of the integer."
      ],
      "metadata": {
        "id": "Y6zi5WWQqO3M"
      }
    },
    {
      "cell_type": "code",
      "source": [
        "n=int(input())\n",
        "tot=0\n",
        "while(n>0):\n",
        "    dig=n%10\n",
        "    tot=tot+dig\n",
        "    n=n//10\n",
        "print(tot)    "
      ],
      "metadata": {
        "id": "avfj7hYQqOhY"
      },
      "execution_count": null,
      "outputs": []
    },
    {
      "cell_type": "markdown",
      "source": [
        "# Write a code to get 2 integers as input and find the HCF of the 2 integer without using recursion or Euclidean algorithm.\n",
        "\n",
        "Input Description:\n",
        "A single line containing 2 integers separated by space.\n",
        "\n",
        "Output Description:\n",
        "Print the HCF of the integers."
      ],
      "metadata": {
        "id": "6AM2DhbBrCJA"
      }
    },
    {
      "cell_type": "code",
      "source": [
        "x, y = map(int, input().split())\n",
        "if x > y:\n",
        "    smaller = y  \n",
        "else:\n",
        "    smaller = x  \n",
        "for i in range(1,smaller + 1):\n",
        "    if((x % i == 0) and (y % i == 0)):\n",
        "        hcf = i\n",
        "print(hcf)"
      ],
      "metadata": {
        "id": "VJQRGxidrB1Y"
      },
      "execution_count": null,
      "outputs": []
    },
    {
      "cell_type": "markdown",
      "source": [
        "# Write a code to get an integer N and print the values from N to 1.\n",
        "\n",
        "Input Description:\n",
        "A single line contains an integer N.\n",
        "\n",
        "Output Description:\n",
        "Print the values from N to 1 in a separate line."
      ],
      "metadata": {
        "id": "ovfkJ6TJq_PJ"
      }
    },
    {
      "cell_type": "code",
      "source": [
        "number=int(input())\n",
        "while (number>=1):\n",
        "    print (number)\n",
        "    number-=1"
      ],
      "metadata": {
        "id": "DpVSm0PQq-76"
      },
      "execution_count": null,
      "outputs": []
    },
    {
      "cell_type": "markdown",
      "source": [
        "# Write a program to get a string as input and reverse the string without using temporary variable.\n",
        "\n",
        "Input Description:\n",
        "A single line containing a string.\n",
        "\n",
        "Output Description:\n",
        "Print the reversed string."
      ],
      "metadata": {
        "id": "NAd0p6H7q8DP"
      }
    },
    {
      "cell_type": "code",
      "source": [
        "s=input()\n",
        "str = \"\"\n",
        "for i in s:\n",
        "    str = i + str\n",
        "print(str)"
      ],
      "metadata": {
        "id": "8a0TFMhvq7vn"
      },
      "execution_count": null,
      "outputs": []
    },
    {
      "cell_type": "markdown",
      "source": [
        "# You are provided with two numbers. Find and print the smaller number.\n",
        "\n",
        "Input Description:\n",
        "You are provided with two numbers as input.\n",
        "\n",
        "Output Description:\n",
        "Print the small number out of the two numbers."
      ],
      "metadata": {
        "id": "0REVAd9Kq41M"
      }
    },
    {
      "cell_type": "code",
      "source": [
        "a,b=input().split()\n",
        "small=0\n",
        "if int(a)>int(b):\n",
        "    small=b\n",
        "else:\n",
        "    small=a\n",
        "print(small)"
      ],
      "metadata": {
        "id": "8DlKhwZQq4kR"
      },
      "execution_count": null,
      "outputs": []
    },
    {
      "cell_type": "markdown",
      "source": [
        "# Write a code get an integer number as input and print the odd and even digits of the number separately.\n",
        "\n",
        "Input Description:\n",
        "A single line containing an integer.\n",
        "\n",
        "Output Description:\n",
        "Print the even and odd integers of the integer in a separate line."
      ],
      "metadata": {
        "id": "nDlHFQhtq1XO"
      }
    },
    {
      "cell_type": "code",
      "source": [
        "n=input()\n",
        "even_1st=[]\n",
        "odd_1st=[]\n",
        "for i in n:\n",
        "    if int(i) % 2==0:\n",
        "        even_1st.append(i)\n",
        "    else:\n",
        "        odd_1st.append(i)\n",
        "even_1st.sort()        \n",
        "odd_1st.sort()\n",
        "print(*even_1st)\n",
        "print(*odd_1st)"
      ],
      "metadata": {
        "id": "qH9RCKGWq1AI"
      },
      "execution_count": null,
      "outputs": []
    },
    {
      "cell_type": "markdown",
      "source": [
        "# You are given a number A in Kilometers. Convert this into B: Meters and C: Centi-Metres.\n",
        "\n",
        "Input Description:\n",
        "A number \"A\" representing some distance in kilometer is provided to you as the input.\n",
        "\n",
        "Output Description:\n",
        "Convert and print this value in meters and centimeters."
      ],
      "metadata": {
        "id": "klazLMenr5p4"
      }
    },
    {
      "cell_type": "code",
      "source": [
        "km=int(input())\n",
        "m=km*1000\n",
        "cm=km*100000\n",
        "print(m)\n",
        "print(cm)"
      ],
      "metadata": {
        "id": "MqsV_INFr5Xb"
      },
      "execution_count": null,
      "outputs": []
    },
    {
      "cell_type": "markdown",
      "source": [
        "# You are provided with a number check whether its odd or even. \n",
        "\n",
        "Print \"Odd\" or \"Even\" for the corresponding cases.\n",
        "\n",
        "Note: In case of a decimal, Round off to nearest integer and then find the output. Incase the input is zero, print \"Zero\".\n",
        "\n",
        "Input Description:\n",
        "A number is provided as the input.\n",
        "\n",
        "Output Description:\n",
        "Find out whether the number is odd or even. Print \"Odd\" or \"Even\" for the corresponding cases. Note: In case of a decimal, Round off to nearest integer and then find the output. In case the input is zero, print \"Zero\""
      ],
      "metadata": {
        "id": "bT0Z5o0Yr220"
      }
    },
    {
      "cell_type": "code",
      "source": [
        "num=float(input())\n",
        "num=round(num)\n",
        "if(num==0):\n",
        "    print(\"Zero\")\n",
        "elif(num%2==0):\n",
        "    print(\"Even\")\n",
        "else:\n",
        "    print(\"Odd\")\n",
        "    "
      ],
      "metadata": {
        "id": "k1l53N8cr2lo"
      },
      "execution_count": null,
      "outputs": []
    },
    {
      "cell_type": "markdown",
      "source": [
        "# Let \"A\"  be a string. Remove all the whitespaces and find it's length.\n",
        "\n",
        "Input Description:\n",
        "A string is provide as an input\n",
        "\n",
        "Output Description:\n",
        "Remove all the whitespaces and then print the length of the remaining string."
      ],
      "metadata": {
        "id": "pEOoRJk_r0H4"
      }
    },
    {
      "cell_type": "code",
      "source": [
        "A=input()\n",
        "A=A.replace(' ',\"\")\n",
        "print(len(A))"
      ],
      "metadata": {
        "id": "HOy5xKEMrz3t"
      },
      "execution_count": null,
      "outputs": []
    },
    {
      "cell_type": "markdown",
      "source": [
        "# The area of an equilateral triangle is ¼(√3a2) where \"a\" represents a side of the triangle. You are provided with the side \"a\". Find the area of the equilateral triangle.\n",
        "\n",
        "Input Description:\n",
        "The side of an equilateral triangle is provided as the input.\n",
        "\n",
        "Output Description:\n",
        "Find the area of the equilateral triangle and print the answer up to 2 decimal places after rounding off."
      ],
      "metadata": {
        "id": "IoXF48ovrxnl"
      }
    },
    {
      "cell_type": "code",
      "source": [
        "import math\n",
        "a=int(input())\n",
        "area=(math.sqrt(3)/4)*(a*a)\n",
        "print(\"%.2f\"%area)"
      ],
      "metadata": {
        "id": "py7sXH1LrxVi"
      },
      "execution_count": null,
      "outputs": []
    }
  ]
}